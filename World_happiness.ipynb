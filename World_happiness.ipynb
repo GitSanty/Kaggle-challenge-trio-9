{
 "cells": [
  {
   "cell_type": "markdown",
   "metadata": {},
   "source": [
    "# Plot#1 Happiness in function of GDP (Scatterplot with trendline - Nathan)"
   ]
  },
  {
   "cell_type": "code",
   "execution_count": null,
   "metadata": {},
   "outputs": [],
   "source": [
    "import pandas as pd\n",
    "import numpy as np\n",
    "import matplotlib\n",
    "import matplotlib.pyplot as plt\n",
    "%matplotlib inline"
   ]
  },
  {
   "cell_type": "code",
   "execution_count": null,
   "metadata": {},
   "outputs": [],
   "source": [
    "df = pd.read_csv(\"2020.csv\")\n",
    "x_gdp = df[\"Logged GDP per capita\"]\n",
    "y_ls = df[\"Ladder score\"]\n",
    "\n",
    "df.head(10)"
   ]
  },
  {
   "cell_type": "code",
   "execution_count": null,
   "metadata": {},
   "outputs": [],
   "source": [
    "plt.figure(figsize=(10,10))\n",
    "plt.scatter(x_gdp, y_ls)\n",
    "\n",
    "z = np.polyfit(x_gdp, y_ls, 1)\n",
    "p = np.poly1d(z)\n",
    "plt.plot(x_gdp,p(x_gdp),\"r\")\n",
    "\n",
    "plt.xlabel(\"GDP per Capita\", size=14)\n",
    "plt.ylabel(\"Happiness ladder score\", size=14)\n",
    "plt.title(\"Happiness in function of GDP\", size=16)\n",
    "plt.grid(True)\n",
    "plt.show()"
   ]
  },
  {
   "cell_type": "markdown",
   "metadata": {},
   "source": [
    "# Plot#2 Happiness with seaborn lib (Bar chart - santiago)"
   ]
  },
  {
   "cell_type": "code",
   "execution_count": null,
   "metadata": {},
   "outputs": [],
   "source": [
    "import pandas as pd\n",
    "tips = pd.read_csv('2020.csv')\n",
    "# party_counts = pd.crosstab(tips['Country name'], tips['Freedom to make life choices'])\n",
    "data = tips[['Country name', 'Freedom to make life choices']]"
   ]
  },
  {
   "cell_type": "code",
   "execution_count": null,
   "metadata": {},
   "outputs": [],
   "source": [
    "data[:10].sort_values(by='Freedom to make life choices')"
   ]
  },
  {
   "cell_type": "code",
   "execution_count": null,
   "metadata": {},
   "outputs": [],
   "source": [
    "import seaborn as sns\n",
    " \n",
    "sns.barplot(x='Freedom to make life choices', y='Country name', data=data[:10].sort_values(by='Freedom to make life choices'), orient='h')"
   ]
  },
  {
   "cell_type": "markdown",
   "metadata": {},
   "source": [
    "# Plot#3 Mean ladder score per regional indicator (Bar chart - Nathan)"
   ]
  },
  {
   "cell_type": "code",
   "execution_count": null,
   "metadata": {},
   "outputs": [],
   "source": [
    "df_regional = df.groupby('Regional indicator').mean()\n",
    "df_regional.reset_index(level=0, inplace=True)\n",
    "x_ri = df_regional[\"Regional indicator\"]\n",
    "y_ls_mean = df_regional[\"Ladder score\"]\n",
    "df_regional.head(10)"
   ]
  },
  {
   "cell_type": "code",
   "execution_count": null,
   "metadata": {},
   "outputs": [],
   "source": [
    "plt.figure(figsize=(20,10))\n",
    "plt.bar(x_ri, y_ls_mean, width = 0.35)\n",
    "plt.ylim(bottom=4)\n",
    "plt.xticks(rotation=45, size = 12)\n",
    "plt.rc('axes', axisbelow=True)\n",
    "\n",
    "plt.ylabel(\"Mean happiness ladder score\", size=14)\n",
    "plt.title(\"Mean happiness ladder score per regional indicator\", size=16)\n",
    "plt.grid(True,axis = 'y')\n",
    "plt.show()"
   ]
  },
  {
   "cell_type": "code",
   "execution_count": null,
   "metadata": {},
   "outputs": [],
   "source": []
  }
 ],
 "metadata": {
  "kernelspec": {
   "display_name": "Python 3",
   "language": "python",
   "name": "python3"
  },
  "language_info": {
   "codemirror_mode": {
    "name": "ipython",
    "version": 3
   },
   "file_extension": ".py",
   "mimetype": "text/x-python",
   "name": "python",
   "nbconvert_exporter": "python",
   "pygments_lexer": "ipython3",
   "version": "3.8.3"
  }
 },
 "nbformat": 4,
 "nbformat_minor": 4
}
